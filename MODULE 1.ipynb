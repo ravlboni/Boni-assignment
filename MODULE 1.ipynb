{
 "cells": [
  {
   "cell_type": "code",
   "execution_count": null,
   "id": "f405a6e0",
   "metadata": {},
   "outputs": [],
   "source": [
    "# ANS 1\n",
    "IT IS THE COLLECTION OF COMPUTER PROGRAMS AND RELATED DOCUMENTS THAT ARE INTENDED TO PROVIDE DESIRED FEATURES,\n",
    "FUNCTIONALITIES AND BETTER PERFORMANCE. \n"
   ]
  },
  {
   "cell_type": "code",
   "execution_count": null,
   "id": "aca0ba43",
   "metadata": {},
   "outputs": [],
   "source": [
    "# ANS2\n",
    "(1) WEB APPLICATION\n",
    "(2) MOBILE APPLICATION\n",
    "(3) DESKTOP APPLICATION\n"
   ]
  },
  {
   "cell_type": "code",
   "execution_count": null,
   "id": "3449aedb",
   "metadata": {},
   "outputs": [],
   "source": [
    "# ANS 3\n",
    " PROGRAMMING IS A PROCESS OF CREATING A SET OF INSTRUCTIONS THAT TELL HOW TO PERFORM A TASK.\n"
   ]
  },
  {
   "cell_type": "code",
   "execution_count": null,
   "id": "45ed6513",
   "metadata": {},
   "outputs": [],
   "source": [
    "# ANS 4\n",
    "PYTHON IS A GENERAL PURPOSE , DYNAMICALLY TYPED HIGH LEVEL LANGUAGE DEVELOPED BY GUIDO VAN ROSSUM IN THE YEAR OF\n",
    "1991 AT CWI IN NETHERLAND."
   ]
  },
  {
   "cell_type": "code",
   "execution_count": null,
   "id": "c8de57db",
   "metadata": {},
   "outputs": [],
   "source": []
  }
 ],
 "metadata": {
  "kernelspec": {
   "display_name": "Python 3 (ipykernel)",
   "language": "python",
   "name": "python3"
  },
  "language_info": {
   "codemirror_mode": {
    "name": "ipython",
    "version": 3
   },
   "file_extension": ".py",
   "mimetype": "text/x-python",
   "name": "python",
   "nbconvert_exporter": "python",
   "pygments_lexer": "ipython3",
   "version": "3.9.13"
  }
 },
 "nbformat": 4,
 "nbformat_minor": 5
}

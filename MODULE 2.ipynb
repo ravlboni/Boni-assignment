{
 "cells": [
  {
   "cell_type": "code",
   "execution_count": 4,
   "id": "7d4f5d0e",
   "metadata": {},
   "outputs": [
    {
     "name": "stdout",
     "output_type": "stream",
     "text": [
      "6\n",
      "positive\n"
     ]
    }
   ],
   "source": [
    "# ANS 1\n",
    "var1=int(input())\n",
    "if var1>=0:\n",
    "    if var1==0:\n",
    "        print('neutral')\n",
    "    elif var1>=0:\n",
    "        print('positive')\n",
    "else:\n",
    "    print('negative')"
   ]
  },
  {
   "cell_type": "code",
   "execution_count": 5,
   "id": "5aacffaa",
   "metadata": {},
   "outputs": [],
   "source": [
    "# ANS 2 "
   ]
  },
  {
   "cell_type": "code",
   "execution_count": 6,
   "id": "53d64b09",
   "metadata": {},
   "outputs": [],
   "source": [
    "# ANS 3"
   ]
  },
  {
   "cell_type": "code",
   "execution_count": 8,
   "id": "3a87e79d",
   "metadata": {},
   "outputs": [],
   "source": [
    "# ANS 4\n",
    "# MEMORY IN PYTHON IS MANAGED DYNAMICALLY WITH PRIVATE HEAP SPACE."
   ]
  },
  {
   "cell_type": "code",
   "execution_count": 9,
   "id": "f25ca1c7",
   "metadata": {},
   "outputs": [],
   "source": [
    "# ANS 5"
   ]
  },
  {
   "cell_type": "code",
   "execution_count": 11,
   "id": "36815376",
   "metadata": {},
   "outputs": [
    {
     "name": "stdout",
     "output_type": "stream",
     "text": [
      "20\n",
      "30\n",
      "num1 30\n",
      "num2 20\n"
     ]
    }
   ],
   "source": [
    "# ANS 6 \n",
    "num1 = int(input())\n",
    "num2 = int(input())\n",
    "num1,num2 = num2,num1\n",
    "print('num1',num1)\n",
    "print('num2',num2)"
   ]
  },
  {
   "cell_type": "code",
   "execution_count": 13,
   "id": "e462f8b9",
   "metadata": {},
   "outputs": [
    {
     "name": "stdout",
     "output_type": "stream",
     "text": [
      "10\n",
      "even number\n"
     ]
    }
   ],
   "source": [
    "# ANS 7\n",
    "num = int(input())\n",
    "if num % 2 == 0:\n",
    "    print('even number')\n",
    "else:\n",
    "    print('odd number')"
   ]
  },
  {
   "cell_type": "code",
   "execution_count": 17,
   "id": "bd139fff",
   "metadata": {},
   "outputs": [
    {
     "name": "stdout",
     "output_type": "stream",
     "text": [
      "o\n",
      "vowel number\n"
     ]
    }
   ],
   "source": [
    "# ANS 8\n",
    "num = (input())\n",
    "if (num=='a'or num=='e' or num=='i'or num=='o'or num=='u'):\n",
    "    print('vowel number')\n",
    "else:\n",
    "    print('no vowel number')"
   ]
  },
  {
   "cell_type": "code",
   "execution_count": 18,
   "id": "122aea60",
   "metadata": {},
   "outputs": [],
   "source": [
    "# ANS 9"
   ]
  },
  {
   "cell_type": "code",
   "execution_count": 22,
   "id": "030ede9f",
   "metadata": {},
   "outputs": [
    {
     "name": "stdout",
     "output_type": "stream",
     "text": [
      "10\n",
      "10\n",
      "true\n"
     ]
    }
   ],
   "source": [
    "# ANS 10\n",
    "num1 = int(input())\n",
    "num2 = int(input())\n",
    "c = num1+num2\n",
    "d = num1-num2\n",
    "if (num1 == num2 or c ==10 or d == 20):\n",
    "    print('true')\n",
    "else:\n",
    "    print('false')\n"
   ]
  },
  {
   "cell_type": "code",
   "execution_count": 4,
   "id": "1b57e2ee",
   "metadata": {},
   "outputs": [
    {
     "name": "stdout",
     "output_type": "stream",
     "text": [
      "5\n",
      "15\n"
     ]
    }
   ],
   "source": [
    "# ANS 11\n",
    "num = int(input())\n",
    "a = num+1\n",
    "b = a/2\n",
    "c = b*num\n",
    "d = int(c)\n",
    "print(d)\n"
   ]
  },
  {
   "cell_type": "code",
   "execution_count": 1,
   "id": "4a40a857",
   "metadata": {},
   "outputs": [
    {
     "name": "stdout",
     "output_type": "stream",
     "text": [
      "BONI\n",
      "4\n"
     ]
    }
   ],
   "source": [
    "# ANS 12\n",
    "string = input()\n",
    "print(len(string))"
   ]
  },
  {
   "cell_type": "code",
   "execution_count": 25,
   "id": "3af3cf70",
   "metadata": {},
   "outputs": [],
   "source": [
    "# ANS 13"
   ]
  },
  {
   "cell_type": "code",
   "execution_count": 26,
   "id": "990f1897",
   "metadata": {},
   "outputs": [],
   "source": [
    "# ANS 14"
   ]
  },
  {
   "cell_type": "code",
   "execution_count": 27,
   "id": "57c7e3af",
   "metadata": {},
   "outputs": [],
   "source": [
    "# ANS 15"
   ]
  },
  {
   "cell_type": "code",
   "execution_count": 28,
   "id": "a6a3996b",
   "metadata": {},
   "outputs": [],
   "source": [
    "# ANS 16"
   ]
  },
  {
   "cell_type": "code",
   "execution_count": 29,
   "id": "96f46597",
   "metadata": {},
   "outputs": [],
   "source": [
    "# ANS 17"
   ]
  },
  {
   "cell_type": "code",
   "execution_count": 30,
   "id": "ff5e540d",
   "metadata": {},
   "outputs": [],
   "source": [
    "# ANS 18"
   ]
  },
  {
   "cell_type": "code",
   "execution_count": 31,
   "id": "93a47147",
   "metadata": {},
   "outputs": [],
   "source": [
    "# ANS 19"
   ]
  },
  {
   "cell_type": "code",
   "execution_count": 32,
   "id": "4c18b008",
   "metadata": {},
   "outputs": [],
   "source": [
    "# ANS 20"
   ]
  },
  {
   "cell_type": "code",
   "execution_count": 33,
   "id": "396d949c",
   "metadata": {},
   "outputs": [],
   "source": [
    "# ANS 21"
   ]
  },
  {
   "cell_type": "code",
   "execution_count": 34,
   "id": "ee8c88e3",
   "metadata": {},
   "outputs": [],
   "source": [
    "# ANS 22"
   ]
  },
  {
   "cell_type": "code",
   "execution_count": null,
   "id": "2dc4f3ad",
   "metadata": {},
   "outputs": [],
   "source": [
    "# ANS 23"
   ]
  }
 ],
 "metadata": {
  "kernelspec": {
   "display_name": "Python 3 (ipykernel)",
   "language": "python",
   "name": "python3"
  },
  "language_info": {
   "codemirror_mode": {
    "name": "ipython",
    "version": 3
   },
   "file_extension": ".py",
   "mimetype": "text/x-python",
   "name": "python",
   "nbconvert_exporter": "python",
   "pygments_lexer": "ipython3",
   "version": "3.9.13"
  }
 },
 "nbformat": 4,
 "nbformat_minor": 5
}
